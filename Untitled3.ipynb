{
 "cells": [
  {
   "cell_type": "code",
   "execution_count": null,
   "id": "e62655bc",
   "metadata": {},
   "outputs": [],
   "source": [
    "Input: [0,1,0,3,12] \n",
    "output: [1,3,12,0,0]"
   ]
  },
  {
   "cell_type": "code",
   "execution_count": 30,
   "id": "8dd3d3ca",
   "metadata": {},
   "outputs": [],
   "source": [
    "l= [0,1,0,3,12] "
   ]
  },
  {
   "cell_type": "code",
   "execution_count": 33,
   "id": "cc7278e4",
   "metadata": {},
   "outputs": [
    {
     "data": {
      "text/plain": [
       "[0, 0, 1, 3, 12]"
      ]
     },
     "execution_count": 33,
     "metadata": {},
     "output_type": "execute_result"
    }
   ],
   "source": [
    "l.sort()\n",
    "l"
   ]
  },
  {
   "cell_type": "code",
   "execution_count": null,
   "id": "a5605991",
   "metadata": {},
   "outputs": [],
   "source": [
    "for i in l:\n",
    "    if i==0:\n",
    "        l.remove()"
   ]
  },
  {
   "cell_type": "code",
   "execution_count": 36,
   "id": "cf77fdb6",
   "metadata": {},
   "outputs": [
    {
     "ename": "ValueError",
     "evalue": "list.remove(x): x not in list",
     "output_type": "error",
     "traceback": [
      "\u001b[0;31m---------------------------------------------------------------------------\u001b[0m",
      "\u001b[0;31mValueError\u001b[0m                                Traceback (most recent call last)",
      "\u001b[0;32m/var/folders/f2/dyht95tj14z8rvh8sf6v0xrh0000gn/T/ipykernel_5268/2607138154.py\u001b[0m in \u001b[0;36m<module>\u001b[0;34m\u001b[0m\n\u001b[0;32m----> 1\u001b[0;31m \u001b[0ma\u001b[0m\u001b[0;34m=\u001b[0m\u001b[0ml\u001b[0m\u001b[0;34m.\u001b[0m\u001b[0mremove\u001b[0m\u001b[0;34m(\u001b[0m\u001b[0;36m0\u001b[0m\u001b[0;34m)\u001b[0m\u001b[0;34m\u001b[0m\u001b[0;34m\u001b[0m\u001b[0m\n\u001b[0m\u001b[1;32m      2\u001b[0m \u001b[0ma\u001b[0m\u001b[0;34m\u001b[0m\u001b[0;34m\u001b[0m\u001b[0m\n",
      "\u001b[0;31mValueError\u001b[0m: list.remove(x): x not in list"
     ]
    }
   ],
   "source": [
    "a=l.remove(0)\n",
    "a"
   ]
  },
  {
   "cell_type": "code",
   "execution_count": 37,
   "id": "af0182ea",
   "metadata": {},
   "outputs": [],
   "source": [
    "l=l.sort()"
   ]
  },
  {
   "cell_type": "code",
   "execution_count": 38,
   "id": "1f753d0b",
   "metadata": {},
   "outputs": [
    {
     "ename": "AttributeError",
     "evalue": "'NoneType' object has no attribute 'sort'",
     "output_type": "error",
     "traceback": [
      "\u001b[0;31m---------------------------------------------------------------------------\u001b[0m",
      "\u001b[0;31mAttributeError\u001b[0m                            Traceback (most recent call last)",
      "\u001b[0;32m/var/folders/f2/dyht95tj14z8rvh8sf6v0xrh0000gn/T/ipykernel_5268/3972109095.py\u001b[0m in \u001b[0;36m<module>\u001b[0;34m\u001b[0m\n\u001b[0;32m----> 1\u001b[0;31m \u001b[0ml1\u001b[0m\u001b[0;34m=\u001b[0m\u001b[0ml\u001b[0m\u001b[0;34m.\u001b[0m\u001b[0msort\u001b[0m\u001b[0;34m(\u001b[0m\u001b[0;34m)\u001b[0m\u001b[0;34m\u001b[0m\u001b[0;34m\u001b[0m\u001b[0m\n\u001b[0m",
      "\u001b[0;31mAttributeError\u001b[0m: 'NoneType' object has no attribute 'sort'"
     ]
    }
   ],
   "source": [
    "l1=l.sort()"
   ]
  },
  {
   "cell_type": "code",
   "execution_count": 10,
   "id": "6ac5f5b6",
   "metadata": {},
   "outputs": [],
   "source": [
    "data = [[1,'20211230 08:50:01',10,'MG Road, Gurugram, Harayana - 122001'],\n",
    "[2,'20211230 08:50:02',15,'Malviya nagar,New Delhi, Delhi - 110017'],\n",
    "[3,'20211230 08:50:03',20,'sector 29, gurgaon, Harayana - 122022'],\n",
    "[4,'20211230 08:50:04',22,'metropolitan mall gurgaon, Harayana - 122022'],\n",
    "[5,'20211230 08:50:05','','Dundahera Village, Sector 20, Gurugram, Haryana'],\n",
    "[6,'20211230 08:50:06','','Hyundai motors india pvt. ltd,sector 29, Gurugram, Harayana - 122002'],\n",
    "[7,'20211230 08:50:07',31,'saket, New Delhi, Delhi - 110017'],\n",
    "[8,'20211230 08:50:08',34,'Rajpath, India Gate, New Delhi, Delhi - 110001'],\n",
    "[9,'20211230 08:50:09',40,' NH8, Ambience Island, Sector 24, Gurugram, Haryana - 122010'],\n",
    "[10,'20211230 08:50:10',70,'MG Road, Gurugram, Harayana - 122001']]"
   ]
  },
  {
   "cell_type": "code",
   "execution_count": 11,
   "id": "bab4a5d1",
   "metadata": {},
   "outputs": [],
   "source": [
    "data1=['trip', 'time','speed','address']"
   ]
  },
  {
   "cell_type": "code",
   "execution_count": 12,
   "id": "2543757a",
   "metadata": {},
   "outputs": [],
   "source": [
    "import pandas as pd"
   ]
  },
  {
   "cell_type": "code",
   "execution_count": 15,
   "id": "259f1006",
   "metadata": {},
   "outputs": [],
   "source": [
    "df=pd.DataFrame(data,columns=data1)"
   ]
  },
  {
   "cell_type": "code",
   "execution_count": 16,
   "id": "96bc1683",
   "metadata": {},
   "outputs": [
    {
     "data": {
      "text/html": [
       "<div>\n",
       "<style scoped>\n",
       "    .dataframe tbody tr th:only-of-type {\n",
       "        vertical-align: middle;\n",
       "    }\n",
       "\n",
       "    .dataframe tbody tr th {\n",
       "        vertical-align: top;\n",
       "    }\n",
       "\n",
       "    .dataframe thead th {\n",
       "        text-align: right;\n",
       "    }\n",
       "</style>\n",
       "<table border=\"1\" class=\"dataframe\">\n",
       "  <thead>\n",
       "    <tr style=\"text-align: right;\">\n",
       "      <th></th>\n",
       "      <th>trip</th>\n",
       "      <th>time</th>\n",
       "      <th>speed</th>\n",
       "      <th>address</th>\n",
       "    </tr>\n",
       "  </thead>\n",
       "  <tbody>\n",
       "    <tr>\n",
       "      <th>0</th>\n",
       "      <td>1</td>\n",
       "      <td>20211230 08:50:01</td>\n",
       "      <td>10</td>\n",
       "      <td>MG Road, Gurugram, Harayana - 122001</td>\n",
       "    </tr>\n",
       "    <tr>\n",
       "      <th>1</th>\n",
       "      <td>2</td>\n",
       "      <td>20211230 08:50:02</td>\n",
       "      <td>15</td>\n",
       "      <td>Malviya nagar,New Delhi, Delhi - 110017</td>\n",
       "    </tr>\n",
       "    <tr>\n",
       "      <th>2</th>\n",
       "      <td>3</td>\n",
       "      <td>20211230 08:50:03</td>\n",
       "      <td>20</td>\n",
       "      <td>sector 29, gurgaon, Harayana - 122022</td>\n",
       "    </tr>\n",
       "    <tr>\n",
       "      <th>3</th>\n",
       "      <td>4</td>\n",
       "      <td>20211230 08:50:04</td>\n",
       "      <td>22</td>\n",
       "      <td>metropolitan mall gurgaon, Harayana - 122022</td>\n",
       "    </tr>\n",
       "    <tr>\n",
       "      <th>4</th>\n",
       "      <td>5</td>\n",
       "      <td>20211230 08:50:05</td>\n",
       "      <td></td>\n",
       "      <td>Dundahera Village, Sector 20, Gurugram, Haryana</td>\n",
       "    </tr>\n",
       "    <tr>\n",
       "      <th>5</th>\n",
       "      <td>6</td>\n",
       "      <td>20211230 08:50:06</td>\n",
       "      <td></td>\n",
       "      <td>Hyundai motors india pvt. ltd,sector 29, Gurug...</td>\n",
       "    </tr>\n",
       "    <tr>\n",
       "      <th>6</th>\n",
       "      <td>7</td>\n",
       "      <td>20211230 08:50:07</td>\n",
       "      <td>31</td>\n",
       "      <td>saket, New Delhi, Delhi - 110017</td>\n",
       "    </tr>\n",
       "    <tr>\n",
       "      <th>7</th>\n",
       "      <td>8</td>\n",
       "      <td>20211230 08:50:08</td>\n",
       "      <td>34</td>\n",
       "      <td>Rajpath, India Gate, New Delhi, Delhi - 110001</td>\n",
       "    </tr>\n",
       "    <tr>\n",
       "      <th>8</th>\n",
       "      <td>9</td>\n",
       "      <td>20211230 08:50:09</td>\n",
       "      <td>40</td>\n",
       "      <td>NH8, Ambience Island, Sector 24, Gurugram, Ha...</td>\n",
       "    </tr>\n",
       "    <tr>\n",
       "      <th>9</th>\n",
       "      <td>10</td>\n",
       "      <td>20211230 08:50:10</td>\n",
       "      <td>70</td>\n",
       "      <td>MG Road, Gurugram, Harayana - 122001</td>\n",
       "    </tr>\n",
       "  </tbody>\n",
       "</table>\n",
       "</div>"
      ],
      "text/plain": [
       "   trip               time speed  \\\n",
       "0     1  20211230 08:50:01    10   \n",
       "1     2  20211230 08:50:02    15   \n",
       "2     3  20211230 08:50:03    20   \n",
       "3     4  20211230 08:50:04    22   \n",
       "4     5  20211230 08:50:05         \n",
       "5     6  20211230 08:50:06         \n",
       "6     7  20211230 08:50:07    31   \n",
       "7     8  20211230 08:50:08    34   \n",
       "8     9  20211230 08:50:09    40   \n",
       "9    10  20211230 08:50:10    70   \n",
       "\n",
       "                                             address  \n",
       "0               MG Road, Gurugram, Harayana - 122001  \n",
       "1            Malviya nagar,New Delhi, Delhi - 110017  \n",
       "2              sector 29, gurgaon, Harayana - 122022  \n",
       "3       metropolitan mall gurgaon, Harayana - 122022  \n",
       "4    Dundahera Village, Sector 20, Gurugram, Haryana  \n",
       "5  Hyundai motors india pvt. ltd,sector 29, Gurug...  \n",
       "6                   saket, New Delhi, Delhi - 110017  \n",
       "7     Rajpath, India Gate, New Delhi, Delhi - 110001  \n",
       "8   NH8, Ambience Island, Sector 24, Gurugram, Ha...  \n",
       "9               MG Road, Gurugram, Harayana - 122001  "
      ]
     },
     "execution_count": 16,
     "metadata": {},
     "output_type": "execute_result"
    }
   ],
   "source": [
    "df"
   ]
  },
  {
   "cell_type": "code",
   "execution_count": 20,
   "id": "648a9e25",
   "metadata": {},
   "outputs": [
    {
     "ename": "KeyError",
     "evalue": "'speed'",
     "output_type": "error",
     "traceback": [
      "\u001b[0;31m---------------------------------------------------------------------------\u001b[0m",
      "\u001b[0;31mKeyError\u001b[0m                                  Traceback (most recent call last)",
      "\u001b[0;32m/var/folders/f2/dyht95tj14z8rvh8sf6v0xrh0000gn/T/ipykernel_5268/2618804907.py\u001b[0m in \u001b[0;36m<module>\u001b[0;34m\u001b[0m\n\u001b[0;32m----> 1\u001b[0;31m \u001b[0mdf\u001b[0m\u001b[0;34m=\u001b[0m\u001b[0mdf\u001b[0m\u001b[0;34m[\u001b[0m\u001b[0;34m'speed'\u001b[0m\u001b[0;34m]\u001b[0m\u001b[0;34m.\u001b[0m\u001b[0mfillna\u001b[0m\u001b[0;34m(\u001b[0m\u001b[0;36m20\u001b[0m\u001b[0;34m)\u001b[0m\u001b[0;34m\u001b[0m\u001b[0;34m\u001b[0m\u001b[0m\n\u001b[0m",
      "\u001b[0;32m~/opt/anaconda3/lib/python3.9/site-packages/pandas/core/series.py\u001b[0m in \u001b[0;36m__getitem__\u001b[0;34m(self, key)\u001b[0m\n\u001b[1;32m    940\u001b[0m \u001b[0;34m\u001b[0m\u001b[0m\n\u001b[1;32m    941\u001b[0m         \u001b[0;32melif\u001b[0m \u001b[0mkey_is_scalar\u001b[0m\u001b[0;34m:\u001b[0m\u001b[0;34m\u001b[0m\u001b[0;34m\u001b[0m\u001b[0m\n\u001b[0;32m--> 942\u001b[0;31m             \u001b[0;32mreturn\u001b[0m \u001b[0mself\u001b[0m\u001b[0;34m.\u001b[0m\u001b[0m_get_value\u001b[0m\u001b[0;34m(\u001b[0m\u001b[0mkey\u001b[0m\u001b[0;34m)\u001b[0m\u001b[0;34m\u001b[0m\u001b[0;34m\u001b[0m\u001b[0m\n\u001b[0m\u001b[1;32m    943\u001b[0m \u001b[0;34m\u001b[0m\u001b[0m\n\u001b[1;32m    944\u001b[0m         \u001b[0;32mif\u001b[0m \u001b[0mis_hashable\u001b[0m\u001b[0;34m(\u001b[0m\u001b[0mkey\u001b[0m\u001b[0;34m)\u001b[0m\u001b[0;34m:\u001b[0m\u001b[0;34m\u001b[0m\u001b[0;34m\u001b[0m\u001b[0m\n",
      "\u001b[0;32m~/opt/anaconda3/lib/python3.9/site-packages/pandas/core/series.py\u001b[0m in \u001b[0;36m_get_value\u001b[0;34m(self, label, takeable)\u001b[0m\n\u001b[1;32m   1049\u001b[0m \u001b[0;34m\u001b[0m\u001b[0m\n\u001b[1;32m   1050\u001b[0m         \u001b[0;31m# Similar to Index.get_value, but we do not fall back to positional\u001b[0m\u001b[0;34m\u001b[0m\u001b[0;34m\u001b[0m\u001b[0m\n\u001b[0;32m-> 1051\u001b[0;31m         \u001b[0mloc\u001b[0m \u001b[0;34m=\u001b[0m \u001b[0mself\u001b[0m\u001b[0;34m.\u001b[0m\u001b[0mindex\u001b[0m\u001b[0;34m.\u001b[0m\u001b[0mget_loc\u001b[0m\u001b[0;34m(\u001b[0m\u001b[0mlabel\u001b[0m\u001b[0;34m)\u001b[0m\u001b[0;34m\u001b[0m\u001b[0;34m\u001b[0m\u001b[0m\n\u001b[0m\u001b[1;32m   1052\u001b[0m         \u001b[0;32mreturn\u001b[0m \u001b[0mself\u001b[0m\u001b[0;34m.\u001b[0m\u001b[0mindex\u001b[0m\u001b[0;34m.\u001b[0m\u001b[0m_get_values_for_loc\u001b[0m\u001b[0;34m(\u001b[0m\u001b[0mself\u001b[0m\u001b[0;34m,\u001b[0m \u001b[0mloc\u001b[0m\u001b[0;34m,\u001b[0m \u001b[0mlabel\u001b[0m\u001b[0;34m)\u001b[0m\u001b[0;34m\u001b[0m\u001b[0;34m\u001b[0m\u001b[0m\n\u001b[1;32m   1053\u001b[0m \u001b[0;34m\u001b[0m\u001b[0m\n",
      "\u001b[0;32m~/opt/anaconda3/lib/python3.9/site-packages/pandas/core/indexes/range.py\u001b[0m in \u001b[0;36mget_loc\u001b[0;34m(self, key, method, tolerance)\u001b[0m\n\u001b[1;32m    386\u001b[0m                 \u001b[0;32mexcept\u001b[0m \u001b[0mValueError\u001b[0m \u001b[0;32mas\u001b[0m \u001b[0merr\u001b[0m\u001b[0;34m:\u001b[0m\u001b[0;34m\u001b[0m\u001b[0;34m\u001b[0m\u001b[0m\n\u001b[1;32m    387\u001b[0m                     \u001b[0;32mraise\u001b[0m \u001b[0mKeyError\u001b[0m\u001b[0;34m(\u001b[0m\u001b[0mkey\u001b[0m\u001b[0;34m)\u001b[0m \u001b[0;32mfrom\u001b[0m \u001b[0merr\u001b[0m\u001b[0;34m\u001b[0m\u001b[0;34m\u001b[0m\u001b[0m\n\u001b[0;32m--> 388\u001b[0;31m             \u001b[0;32mraise\u001b[0m \u001b[0mKeyError\u001b[0m\u001b[0;34m(\u001b[0m\u001b[0mkey\u001b[0m\u001b[0;34m)\u001b[0m\u001b[0;34m\u001b[0m\u001b[0;34m\u001b[0m\u001b[0m\n\u001b[0m\u001b[1;32m    389\u001b[0m         \u001b[0;32mreturn\u001b[0m \u001b[0msuper\u001b[0m\u001b[0;34m(\u001b[0m\u001b[0;34m)\u001b[0m\u001b[0;34m.\u001b[0m\u001b[0mget_loc\u001b[0m\u001b[0;34m(\u001b[0m\u001b[0mkey\u001b[0m\u001b[0;34m,\u001b[0m \u001b[0mmethod\u001b[0m\u001b[0;34m=\u001b[0m\u001b[0mmethod\u001b[0m\u001b[0;34m,\u001b[0m \u001b[0mtolerance\u001b[0m\u001b[0;34m=\u001b[0m\u001b[0mtolerance\u001b[0m\u001b[0;34m)\u001b[0m\u001b[0;34m\u001b[0m\u001b[0;34m\u001b[0m\u001b[0m\n\u001b[1;32m    390\u001b[0m \u001b[0;34m\u001b[0m\u001b[0m\n",
      "\u001b[0;31mKeyError\u001b[0m: 'speed'"
     ]
    }
   ],
   "source": [
    "select trip,time,case when speed is null then b.speed else a.speed from table a  join table b on a.trid=b.trip-1"
   ]
  },
  {
   "cell_type": "code",
   "execution_count": 19,
   "id": "86d74ac5",
   "metadata": {},
   "outputs": [
    {
     "data": {
      "text/plain": [
       "0    10\n",
       "1    15\n",
       "2    20\n",
       "3    22\n",
       "4      \n",
       "5      \n",
       "6    31\n",
       "7    34\n",
       "8    40\n",
       "9    70\n",
       "Name: speed, dtype: object"
      ]
     },
     "execution_count": 19,
     "metadata": {},
     "output_type": "execute_result"
    }
   ],
   "source": [
    "df"
   ]
  },
  {
   "cell_type": "code",
   "execution_count": null,
   "id": "0742ef7d",
   "metadata": {},
   "outputs": [],
   "source": []
  }
 ],
 "metadata": {
  "kernelspec": {
   "display_name": "Python 3 (ipykernel)",
   "language": "python",
   "name": "python3"
  },
  "language_info": {
   "codemirror_mode": {
    "name": "ipython",
    "version": 3
   },
   "file_extension": ".py",
   "mimetype": "text/x-python",
   "name": "python",
   "nbconvert_exporter": "python",
   "pygments_lexer": "ipython3",
   "version": "3.9.7"
  }
 },
 "nbformat": 4,
 "nbformat_minor": 5
}
