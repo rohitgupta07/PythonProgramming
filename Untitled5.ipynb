{
 "cells": [
  {
   "cell_type": "code",
   "execution_count": 1,
   "id": "ef648558-2540-43ac-a027-8f44c02ccc15",
   "metadata": {},
   "outputs": [],
   "source": [
    "nums=[11,17,2,1,7]\n",
    "target=9\n"
   ]
  },
  {
   "cell_type": "code",
   "execution_count": null,
   "id": "7c1b6de2-de44-4975-9fa7-cf407bd5e231",
   "metadata": {},
   "outputs": [],
   "source": [
    "for i in range(nums)\n",
    "    if i>target:\n",
    "        break\n",
    "    else:\n",
    "        num(i+nums\n",
    "        "
   ]
  },
  {
   "cell_type": "code",
   "execution_count": null,
   "id": "1ee65336-c9c0-47fb-b72b-7949dc2781e9",
   "metadata": {},
   "outputs": [],
   "source": []
  },
  {
   "cell_type": "code",
   "execution_count": null,
   "id": "cd50d941-d509-422d-be48-10576ef54e98",
   "metadata": {},
   "outputs": [],
   "source": []
  },
  {
   "cell_type": "code",
   "execution_count": 29,
   "id": "24e26c39-3a51-48eb-82b3-81e8c15b186e",
   "metadata": {},
   "outputs": [
    {
     "name": "stdout",
     "output_type": "stream",
     "text": [
      "hello\n"
     ]
    }
   ],
   "source": [
    "print(\"hello\")"
   ]
  },
  {
   "cell_type": "code",
   "execution_count": null,
   "id": "33b65d93-2a22-499b-873f-e70b61c780c5",
   "metadata": {},
   "outputs": [],
   "source": []
  }
 ],
 "metadata": {
  "kernelspec": {
   "display_name": "Python 3 (ipykernel)",
   "language": "python",
   "name": "python3"
  },
  "language_info": {
   "codemirror_mode": {
    "name": "ipython",
    "version": 3
   },
   "file_extension": ".py",
   "mimetype": "text/x-python",
   "name": "python",
   "nbconvert_exporter": "python",
   "pygments_lexer": "ipython3",
   "version": "3.9.7"
  }
 },
 "nbformat": 4,
 "nbformat_minor": 5
}
