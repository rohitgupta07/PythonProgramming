{
 "cells": [
  {
   "cell_type": "code",
   "execution_count": null,
   "id": "7a7259f9",
   "metadata": {},
   "outputs": [],
   "source": [
    "#word1 = \"abcdab\"\n",
    "#word2 = \"ababcd\"\n",
    "#This is anagram\n",
    "\n",
    "#word3 = \"abcdab\"\n",
    "#word4 = \"aaabcd\"\n",
    "#This is not anagram\n",
    "\n",
    "#Create a function 'is_anagram' which takes 2 string as input and returns boolean value indicating 2 words are\n",
    "#anagram or not without using in-built function"
   ]
  },
  {
   "cell_type": "code",
   "execution_count": 1,
   "id": "057e9a13",
   "metadata": {},
   "outputs": [],
   "source": [
    "word1 = \"abcdab\"\n",
    "word2 = \"ababcd\""
   ]
  },
  {
   "cell_type": "code",
   "execution_count": 19,
   "id": "608ae2c8",
   "metadata": {},
   "outputs": [
    {
     "name": "stdout",
     "output_type": "stream",
     "text": [
      "not anagram\n"
     ]
    }
   ],
   "source": [
    "def anagram_check(s1,s2):\n",
    "    a=0\n",
    "    if len(s1)==len(s2):\n",
    "        for i in s1:\n",
    "            if s2.count(i)==s1.count(i):\n",
    "                a=1\n",
    "            else:\n",
    "                a=0\n",
    "                print(\"not anagram\")\n",
    "                break\n",
    "        if a==1:\n",
    "            print(\"is_anagram\")\n",
    "        \n",
    "\n",
    "anagram_check(word3,word4)"
   ]
  },
  {
   "cell_type": "code",
   "execution_count": 13,
   "id": "0ce3c0b5",
   "metadata": {},
   "outputs": [],
   "source": [
    "word3 = \"abcdabc\"\n",
    "word4 = \"aaabcdc\""
   ]
  },
  {
   "cell_type": "code",
   "execution_count": null,
   "id": "3e5469cf",
   "metadata": {},
   "outputs": [],
   "source": []
  },
  {
   "cell_type": "code",
   "execution_count": null,
   "id": "7aaaf375",
   "metadata": {},
   "outputs": [],
   "source": []
  },
  {
   "cell_type": "code",
   "execution_count": 10,
   "id": "b1940f6a",
   "metadata": {},
   "outputs": [
    {
     "name": "stdout",
     "output_type": "stream",
     "text": [
      "[2, 4]\n",
      "[1, 2]\n"
     ]
    }
   ],
   "source": [
    "nums = [11,17,2,1,7]  \n",
    "target = 9\n",
    "def twoSum(nums,target):         \n",
    "    for i in range(len(nums)):\n",
    "        for j in range(i+1,len(nums)):\n",
    "            if nums[i]+nums[j]==target:\n",
    "                return [i,j]\n",
    "print(twoSum(nums,target))\n",
    "print(twoSum([3,2,4],6))        "
   ]
  },
  {
   "cell_type": "code",
   "execution_count": 35,
   "id": "f24a76cc",
   "metadata": {},
   "outputs": [
    {
     "name": "stdout",
     "output_type": "stream",
     "text": [
      "[0, 1]\n"
     ]
    }
   ],
   "source": [
    "def twoSum1(nums, target):\n",
    "        seen = {}\n",
    "        for i, v in enumerate(nums):\n",
    "            remaining = target - v\n",
    "            if remaining in seen:\n",
    "                return [seen[remaining], i]\n",
    "            seen[v] = i\n",
    "        return []\n",
    "#print(twoSum1([3,2,4],6))\n",
    "#print(twoSum1(nums,target))\n",
    "print(twoSum1([2,7,11,5],9))"
   ]
  },
  {
   "cell_type": "code",
   "execution_count": 40,
   "id": "b107b1ab",
   "metadata": {},
   "outputs": [
    {
     "data": {
      "text/plain": [
       "1"
      ]
     },
     "execution_count": 40,
     "metadata": {},
     "output_type": "execute_result"
    }
   ],
   "source": [
    "a,b=121,0\n",
    "b+=a%10\n",
    "b"
   ]
  },
  {
   "cell_type": "code",
   "execution_count": 41,
   "id": "9e3bff99",
   "metadata": {},
   "outputs": [
    {
     "name": "stdout",
     "output_type": "stream",
     "text": [
      "Enter a number:121\n",
      "The number is palindrome!\n"
     ]
    }
   ],
   "source": [
    "num=int(input(\"Enter a number:\"))\n",
    "temp=num\n",
    "rev=0\n",
    "while(num>0):\n",
    "    dig=num%10\n",
    "    rev=rev*10+dig\n",
    "    num=num//10\n",
    "if(temp==rev):\n",
    "    print(\"The number is palindrome!\")\n",
    "else:\n",
    "    print(\"Not a palindrome!\")\n",
    "        "
   ]
  },
  {
   "cell_type": "code",
   "execution_count": 5,
   "id": "5d0bd8d7",
   "metadata": {},
   "outputs": [
    {
     "name": "stdout",
     "output_type": "stream",
     "text": [
      "fl\n"
     ]
    }
   ],
   "source": [
    "strs = [\"flower\",\"flow\",\"flight\"]\n",
    "def longstring(strs):\n",
    "    result=''\n",
    "    for i in range(len(strs[0])):\n",
    "        for s in strs:\n",
    "            if i == len(s) or s[i]!=strs[0][i]:\n",
    "                return result\n",
    "        result+=strs[0][i]\n",
    "print(longstring(strs))"
   ]
  },
  {
   "cell_type": "code",
   "execution_count": null,
   "id": "28ba46a4",
   "metadata": {},
   "outputs": [],
   "source": []
  }
 ],
 "metadata": {
  "kernelspec": {
   "display_name": "Python 3 (ipykernel)",
   "language": "python",
   "name": "python3"
  },
  "language_info": {
   "codemirror_mode": {
    "name": "ipython",
    "version": 3
   },
   "file_extension": ".py",
   "mimetype": "text/x-python",
   "name": "python",
   "nbconvert_exporter": "python",
   "pygments_lexer": "ipython3",
   "version": "3.9.7"
  }
 },
 "nbformat": 4,
 "nbformat_minor": 5
}
